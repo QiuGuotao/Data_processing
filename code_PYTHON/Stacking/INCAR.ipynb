{
 "cells": [
  {
   "cell_type": "code",
   "execution_count": 25,
   "id": "9c9358b1",
   "metadata": {},
   "outputs": [
    {
     "ename": "TypeError",
     "evalue": "list indices must be integers or slices, not float",
     "output_type": "error",
     "traceback": [
      "\u001b[1;31m---------------------------------------------------------------------------\u001b[0m",
      "\u001b[1;31mTypeError\u001b[0m                                 Traceback (most recent call last)",
      "\u001b[1;32m<ipython-input-25-0f1c21be4629>\u001b[0m in \u001b[0;36m<module>\u001b[1;34m\u001b[0m\n\u001b[0;32m     56\u001b[0m \u001b[0mtotal\u001b[0m\u001b[1;33m=\u001b[0m\u001b[1;33m[\u001b[0m\u001b[0ma1\u001b[0m\u001b[1;33m,\u001b[0m\u001b[0ma2\u001b[0m\u001b[1;33m,\u001b[0m\u001b[0ma3\u001b[0m\u001b[1;33m,\u001b[0m\u001b[0ma4\u001b[0m\u001b[1;33m,\u001b[0m\u001b[0mb1\u001b[0m\u001b[1;33m,\u001b[0m\u001b[0mb2\u001b[0m\u001b[1;33m,\u001b[0m\u001b[0mb3\u001b[0m\u001b[1;33m,\u001b[0m\u001b[0mb4\u001b[0m\u001b[1;33m,\u001b[0m\u001b[0mc1\u001b[0m\u001b[1;33m,\u001b[0m\u001b[0mc2\u001b[0m\u001b[1;33m,\u001b[0m\u001b[0mc3\u001b[0m\u001b[1;33m,\u001b[0m\u001b[0mc4\u001b[0m\u001b[1;33m,\u001b[0m\u001b[0md1\u001b[0m\u001b[1;33m,\u001b[0m\u001b[0md2\u001b[0m\u001b[1;33m,\u001b[0m\u001b[0md3\u001b[0m\u001b[1;33m,\u001b[0m\u001b[0md4\u001b[0m\u001b[1;33m,\u001b[0m\u001b[0me1\u001b[0m\u001b[1;33m,\u001b[0m\u001b[0me2\u001b[0m\u001b[1;33m,\u001b[0m\u001b[0me3\u001b[0m\u001b[1;33m,\u001b[0m\u001b[0me4\u001b[0m\u001b[1;33m,\u001b[0m\u001b[0mf1\u001b[0m\u001b[1;33m,\u001b[0m\u001b[0mf2\u001b[0m\u001b[1;33m,\u001b[0m\u001b[0mf3\u001b[0m\u001b[1;33m,\u001b[0m\u001b[0mf4\u001b[0m\u001b[1;33m,\u001b[0m\u001b[0mg1\u001b[0m\u001b[1;33m,\u001b[0m\u001b[0mg2\u001b[0m\u001b[1;33m,\u001b[0m\u001b[0mg3\u001b[0m\u001b[1;33m,\u001b[0m\u001b[0mg4\u001b[0m\u001b[1;33m,\u001b[0m\u001b[0mh1\u001b[0m\u001b[1;33m,\u001b[0m\u001b[0mh2\u001b[0m\u001b[1;33m,\u001b[0m\u001b[0mh3\u001b[0m\u001b[1;33m,\u001b[0m\u001b[0mh4\u001b[0m\u001b[1;33m,\u001b[0m\u001b[0mi1\u001b[0m\u001b[1;33m,\u001b[0m\u001b[0mi2\u001b[0m\u001b[1;33m,\u001b[0m\u001b[0mi3\u001b[0m\u001b[1;33m,\u001b[0m\u001b[0mi4\u001b[0m\u001b[1;33m]\u001b[0m\u001b[1;33m\u001b[0m\u001b[1;33m\u001b[0m\u001b[0m\n\u001b[0;32m     57\u001b[0m \u001b[1;33m\u001b[0m\u001b[0m\n\u001b[1;32m---> 58\u001b[1;33m \u001b[0mMagmom\u001b[0m\u001b[1;33m=\u001b[0m\u001b[0mtotal\u001b[0m\u001b[1;33m[\u001b[0m\u001b[0mIndex\u001b[0m\u001b[1;33m]\u001b[0m\u001b[1;33m\u001b[0m\u001b[1;33m\u001b[0m\u001b[0m\n\u001b[0m\u001b[0;32m     59\u001b[0m \u001b[1;33m\u001b[0m\u001b[0m\n\u001b[0;32m     60\u001b[0m fout.write(\n",
      "\u001b[1;31mTypeError\u001b[0m: list indices must be integers or slices, not float"
     ]
    }
   ],
   "source": [
    "import sys\n",
    "import math\n",
    "\n",
    "fout = open('INCAR.txt', 'w')\n",
    "\n",
    "Outter = int(sys.argv[1])\n",
    "\n",
    "Index = Outter-1\n",
    "#Jxx\n",
    "a1=\"0 0 5 0 0 5 0 0 5 0 0 5 5 0 0 0 0 5 0 0 5 0 0 5 5 0 0\"\n",
    "a2=\"0 0 5 0 0 5 0 0 5 0 0 5 5 0 0 0 0 5 0 0 5 0 0 5 -5 0 0\"\n",
    "a3=\"0 0 5 0 0 5 0 0 5 0 0 5 -5 0 0 0 0 5 0 0 5 0 0 5 5 0 0\"\n",
    "a4=\"0 0 5 0 0 5 0 0 5 0 0 5 -5 0 0 0 0 5 0 0 5 0 0 5 -5 0 0\"\n",
    "#Jxy\n",
    "b1=\"0 0 5 0 0 5 0 0 5 0 0 5 5 0 0 0 0 5 0 0 5 0 0 5 0 5 0\"\n",
    "b2=\"0 0 5 0 0 5 0 0 5 0 0 5 5 0 0 0 0 5 0 0 5 0 0 5 0 -5 0\"\n",
    "b3=\"0 0 5 0 0 5 0 0 5 0 0 5 -5 0 0 0 0 5 0 0 5 0 0 5 0 5 0\"\n",
    "b4=\"0 0 5 0 0 5 0 0 5 0 0 5 -5 0 0 0 0 5 0 0 5 0 0 5 0 -5 0\"\n",
    "#Jxz\n",
    "c1=\"0 0 5 0 0 5 0 0 5 0 0 5 5 0 0 0 0 5 0 0 5 0 0 5 0 0 5\"\n",
    "c2=\"0 0 5 0 0 5 0 0 5 0 0 5 5 0 0 0 0 5 0 0 5 0 0 5 0 0 -5\"\n",
    "c3=\"0 0 5 0 0 5 0 0 5 0 0 5 -5 0 0 0 0 5 0 0 5 0 0 5 0 0 5\"\n",
    "c4=\"0 0 5 0 0 5 0 0 5 0 0 5 -5 0 0 0 0 5 0 0 5 0 0 5 0 0 -5\"\n",
    "#Jyx\n",
    "d1=\"0 0 5 0 0 5 0 0 5 0 0 5 0 5 0 0 0 5 0 0 5 0 0 5 5 0 0\"\n",
    "d2=\"0 0 5 0 0 5 0 0 5 0 0 5 0 5 0 0 0 5 0 0 5 0 0 5 -5 0 0\"\n",
    "d3=\"0 0 5 0 0 5 0 0 5 0 0 5 0 -5 0 0 0 5 0 0 5 0 0 5 5 0 0\"\n",
    "d4=\"0 0 5 0 0 5 0 0 5 0 0 5 0 -5 0 0 0 5 0 0 5 0 0 5 -5 0 0\"\n",
    "#Jyy\n",
    "e1=\"0 0 5 0 0 5 0 0 5 0 0 5 0 5 0 0 0 5 0 0 5 0 0 5 0 5 0\"\n",
    "e2=\"0 0 5 0 0 5 0 0 5 0 0 5 0 5 0 0 0 5 0 0 5 0 0 5 0 -5 0\"\n",
    "e3=\"0 0 5 0 0 5 0 0 5 0 0 5 0 -5 0 0 0 5 0 0 5 0 0 5 0 5 0\"\n",
    "e4=\"0 0 5 0 0 5 0 0 5 0 0 5 0 -5 0 0 0 5 0 0 5 0 0 5 0 -5 0\"\n",
    "#Jyz\n",
    "f1=\"0 0 5 0 0 5 0 0 5 0 0 5 0 5 0 0 0 5 0 0 5 0 0 5 0 0 5\"\n",
    "f2=\"0 0 5 0 0 5 0 0 5 0 0 5 0 5 0 0 0 5 0 0 5 0 0 5 0 0 -5\"\n",
    "f3=\"0 0 5 0 0 5 0 0 5 0 0 5 0 -5 0 0 0 5 0 0 5 0 0 5 0 0 5\"\n",
    "f4=\"0 0 5 0 0 5 0 0 5 0 0 5 0 -5 0 0 0 5 0 0 5 0 0 5 0 0 -5\"\n",
    "#Jzx\n",
    "g1=\"0 0 5 0 0 5 0 0 5 0 0 5 0 0 5 0 0 5 0 0 5 0 0 5 5 0 0\"\n",
    "g2=\"0 0 5 0 0 5 0 0 5 0 0 5 0 0 5 0 0 5 0 0 5 0 0 5 -5 0 0\"\n",
    "g3=\"0 0 5 0 0 5 0 0 5 0 0 5 0 0 -5 0 0 5 0 0 5 0 0 5 5 0 0\"\n",
    "g4=\"0 0 5 0 0 5 0 0 5 0 0 5 0 0 -5 0 0 5 0 0 5 0 0 5 -5 0 0\"\n",
    "#Jzy\n",
    "h1=\"0 0 5 0 0 5 0 0 5 0 0 5 0 0 5 0 0 5 0 0 5 0 0 5 0 5 0\"\n",
    "h2=\"0 0 5 0 0 5 0 0 5 0 0 5 0 0 5 0 0 5 0 0 5 0 0 5 0 -5 0\"\n",
    "h3=\"0 0 5 0 0 5 0 0 5 0 0 5 0 0 -5 0 0 5 0 0 5 0 0 5 0 5 0\"\n",
    "h4=\"0 0 5 0 0 5 0 0 5 0 0 5 0 0 -5 0 0 5 0 0 5 0 0 5 0 -5 0\"\n",
    "#Jzz\n",
    "i1=\"0 0 5 0 0 5 0 0 5 0 0 5 0 0 5 0 0 5 0 0 5 0 0 5 0 0 5\"\n",
    "i2=\"0 0 5 0 0 5 0 0 5 0 0 5 0 0 5 0 0 5 0 0 5 0 0 5 0 0 -5\"\n",
    "i3=\"0 0 5 0 0 5 0 0 5 0 0 5 0 0 -5 0 0 5 0 0 5 0 0 5 0 0 5\"\n",
    "i4=\"0 0 5 0 0 5 0 0 5 0 0 5 0 0 -5 0 0 5 0 0 5 0 0 5 0 0 -5\"\n",
    "\n",
    "\n",
    "total=[a1,a2,a3,a4,b1,b2,b3,b4,c1,c2,c3,c4,d1,d2,d3,d4,e1,e2,e3,e4,f1,f2,f3,f4,g1,g2,g3,g4,h1,h2,h3,h4,i1,i2,i3,i4]\n",
    "\n",
    "Magmom=total[Index]\n",
    "\n",
    "fout.write(\n",
    "'''NonCollinear Magnetic Calculation\n",
    "ISPIN      =  2        (Spin polarised DFT)\n",
    "MAGMOM   =  %s  54*0     (Set this parameters manually)\n",
    "LASPH      = .TRUE.    (Non-spherical elements; d/f convergence)\n",
    "GGA_COMPAT = .FALSE.   (Apply spherical cutoff on gradient field)\n",
    "VOSKOWN    =  1        (Enhances the magnetic moments and the magnetic energies)\n",
    "LMAXMIX    =  4        (For d elements increase LMAXMIX to 4, f: LMAXMIX = 6)\n",
    "AMIX       =  0.2    (Mixing parameter to control SCF convergence)\n",
    "BMIX       =  0.0001 (Mixing parameter to control SCF convergence)\n",
    "AMIX_MAG   =  0.4    (Mixing parameter to control SCF convergence)\n",
    "BMIX_MAG   =  0.0001 (Mixing parameter to control SCF convergence)\n",
    "ISYM = -1\n",
    "LSORBIT    = .TRUE.    (Activate SOC)\n",
    "\n",
    "DFT+U Calculation\n",
    "LDAU   = .TRUE.        (Activate DFT+U)\n",
    "LDATYPE=  2            (Dudarev; only U-J matters)\n",
    "LDAUL  =  2 -1         (Orbitals for each species)\n",
    "LDAUU  =  3.2  0         (U for each species)\n",
    "LDAUJ  =  0  0         (J for each species)\n",
    "LMAXMIX=  4            (Mixing cut-off; 4-d, 6-f)\n",
    " \n",
    "Global Parameters\n",
    "ISTART =  0            (Read existing wavefunction; if there)\n",
    "\n",
    "# ICHARG =  11         (Non-self-consistent: GGA/LDA band structures)\n",
    "LREAL  = .FALSE.       (Projection operators: automatic)\n",
    "ENCUT  =  450        (Cut-off energy for plane wave basis set, in eV)\n",
    "PREC   =  Normal       (Precision level)\n",
    "LWAVE  = .F.        (Write WAVECAR or not)\n",
    "LCHARG = .F.        (Write CHGCAR or not)\n",
    "ADDGRID= .TRUE.        (Increase grid; helps GGA convergence)\n",
    " \n",
    "Lattice Relaxation\n",
    "ISMEAR =  0            (gaussian smearing method)\n",
    "SIGMA  =  0.05         (please check the width of the smearing)\n",
    "LORBIT =  11           (PAW radii for projected DOS)\n",
    "NELM   =  60           (Max electronic SCF steps)\n",
    "EDIFF  =  1E-08      (SCF energy convergence; in eV)\n",
    "'''%(Magmom))\n",
    "\n",
    "fout.close()"
   ]
  },
  {
   "cell_type": "code",
   "execution_count": 19,
   "id": "c03bcec8",
   "metadata": {},
   "outputs": [],
   "source": [
    "a=\"0 0 5 0 0 5 0 0 5 0 0 5 5 0 0 0 0 5 0 0 5 0 0 5 5 0 0\"\n",
    "b=\"0 0 -5 0 0 -5 0 0 -5 0 0 -5 -5 0 0 0 0 -5 0 0 -5 0 0 -5 -5 0 0\"\n",
    "\n",
    "c=[a,b]"
   ]
  },
  {
   "cell_type": "code",
   "execution_count": 20,
   "id": "e8a82ac0",
   "metadata": {},
   "outputs": [
    {
     "data": {
      "text/plain": [
       "['0 0 5 0 0 5 0 0 5 0 0 5 5 0 0 0 0 5 0 0 5 0 0 5 5 0 0',\n",
       " '0 0 -5 0 0 -5 0 0 -5 0 0 -5 -5 0 0 0 0 -5 0 0 -5 0 0 -5 -5 0 0']"
      ]
     },
     "execution_count": 20,
     "metadata": {},
     "output_type": "execute_result"
    }
   ],
   "source": [
    "c"
   ]
  },
  {
   "cell_type": "code",
   "execution_count": 21,
   "id": "cbba7f5e",
   "metadata": {},
   "outputs": [
    {
     "data": {
      "text/plain": [
       "'0 0 5 0 0 5 0 0 5 0 0 5 5 0 0 0 0 5 0 0 5 0 0 5 5 0 0'"
      ]
     },
     "execution_count": 21,
     "metadata": {},
     "output_type": "execute_result"
    }
   ],
   "source": [
    "c[0]"
   ]
  },
  {
   "cell_type": "code",
   "execution_count": null,
   "id": "43567b95",
   "metadata": {},
   "outputs": [],
   "source": []
  }
 ],
 "metadata": {
  "kernelspec": {
   "display_name": "Python 3",
   "language": "python",
   "name": "python3"
  },
  "language_info": {
   "codemirror_mode": {
    "name": "ipython",
    "version": 3
   },
   "file_extension": ".py",
   "mimetype": "text/x-python",
   "name": "python",
   "nbconvert_exporter": "python",
   "pygments_lexer": "ipython3",
   "version": "3.8.8"
  }
 },
 "nbformat": 4,
 "nbformat_minor": 5
}
